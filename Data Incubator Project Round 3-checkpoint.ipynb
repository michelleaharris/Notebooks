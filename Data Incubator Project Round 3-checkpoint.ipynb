{
 "cells": [
  {
   "cell_type": "code",
   "execution_count": 1,
   "metadata": {
    "collapsed": true
   },
   "outputs": [],
   "source": [
    "import pandas as pd\n",
    "import numpy as np"
   ]
  },
  {
   "cell_type": "code",
   "execution_count": 2,
   "metadata": {
    "collapsed": false
   },
   "outputs": [],
   "source": [
    "dfd=pd.read_csv('Census_Data_-_Selected_socioeconomic_indicators_in_Chicago__2008___2012.csv')\n",
    "dfd.columns = pd.Series(dfd.columns).str.replace(' ','_')"
   ]
  },
  {
   "cell_type": "code",
   "execution_count": 3,
   "metadata": {
    "collapsed": true
   },
   "outputs": [],
   "source": [
    "dfd1=dfd[dfd.COMMUNITY_AREA_NAME != 'CHICAGO']"
   ]
  },
  {
   "cell_type": "code",
   "execution_count": 4,
   "metadata": {
    "collapsed": true
   },
   "outputs": [],
   "source": [
    "dfd2=dfd1.sort_values(['COMMUNITY_AREA_NAME'], ascending=True)"
   ]
  },
  {
   "cell_type": "code",
   "execution_count": 41,
   "metadata": {
    "collapsed": false
   },
   "outputs": [],
   "source": [
    "dfe=pd.read_csv('Energy_Usage_2010.csv')\n",
    "dfe.columns = pd.Series(dfe.columns).str.replace(' ','_')\n"
   ]
  },
  {
   "cell_type": "code",
   "execution_count": 123,
   "metadata": {
    "collapsed": false
   },
   "outputs": [],
   "source": [
    "dfe2=dfe.replace(\"Less than 4\", 2)"
   ]
  },
  {
   "cell_type": "code",
   "execution_count": 124,
   "metadata": {
    "collapsed": false
   },
   "outputs": [],
   "source": [
    "dfe3=dfe2.apply(lambda x: pd.to_numeric(x, errors='ignore'))"
   ]
  },
  {
   "cell_type": "code",
   "execution_count": 125,
   "metadata": {
    "collapsed": false
   },
   "outputs": [],
   "source": [
    "dfe1=dfe3.groupby('COMMUNITY_AREA_NAME', as_index=False).sum()"
   ]
  },
  {
   "cell_type": "code",
   "execution_count": 262,
   "metadata": {
    "collapsed": false
   },
   "outputs": [],
   "source": [
    "dfe4=dfe3[dfe3.BUILDING_TYPE == 'Residential']"
   ]
  },
  {
   "cell_type": "code",
   "execution_count": 193,
   "metadata": {
    "collapsed": false
   },
   "outputs": [],
   "source": [
    "dfe_add=dfe4.groupby('COMMUNITY_AREA_NAME', as_index=False).sum()\n",
    "dfe_avg=dfe4.groupby('COMMUNITY_AREA_NAME', as_index=False).mean()"
   ]
  },
  {
   "cell_type": "code",
   "execution_count": 127,
   "metadata": {
    "collapsed": false,
    "scrolled": true
   },
   "outputs": [],
   "source": [
    "from bokeh.charts import Bar, show, output_file\n",
    "\n",
    "p = Bar(dfe, 'COMMUNITY_AREA_NAME', values='TOTAL_KWH', agg='sum', title=\"Neighborhood Energy Use 2010\", \n",
    "        legend=False, bar_width=1, color='#6495ed')\n",
    "p.width=1200\n",
    "p.height=500\n",
    "\n",
    "output_file(\"bar1.html\")\n",
    "show(p)"
   ]
  },
  {
   "cell_type": "code",
   "execution_count": 128,
   "metadata": {
    "collapsed": false
   },
   "outputs": [],
   "source": [
    "dfs1=pd.concat([dfd2.COMMUNITY_AREA_NAME, dfd2.PER_CAPITA_INCOME_, dfe1.KWH_SQFT_MEAN_2010], axis=1)"
   ]
  },
  {
   "cell_type": "code",
   "execution_count": 129,
   "metadata": {
    "collapsed": false
   },
   "outputs": [],
   "source": [
    "dfs1.columns = ['Neighborhood', 'Per_Capita_Income', 'Energy_Per_SqFt']"
   ]
  },
  {
   "cell_type": "code",
   "execution_count": 163,
   "metadata": {
    "collapsed": true
   },
   "outputs": [],
   "source": [
    "dfp=(dfe_add.TOTAL_KWH / dfe_add.TOTAL_POPULATION)"
   ]
  },
  {
   "cell_type": "code",
   "execution_count": 164,
   "metadata": {
    "collapsed": true
   },
   "outputs": [],
   "source": [
    "dfp1=pd.concat([dfs1, dfp], axis=1)"
   ]
  },
  {
   "cell_type": "code",
   "execution_count": 165,
   "metadata": {
    "collapsed": true
   },
   "outputs": [],
   "source": [
    "dfp1.columns = ['Neighborhood', 'Per_Capita_Income','Energy_Per_SqFt', 'Energy_Use_Per_Person']"
   ]
  },
  {
   "cell_type": "code",
   "execution_count": 167,
   "metadata": {
    "collapsed": false
   },
   "outputs": [],
   "source": [
    "from bokeh.charts import Scatter\n",
    "from bokeh.io import output_file, show\n",
    "from bokeh.layouts import row\n",
    "\n",
    "output_file(\"twoscatter.html\")\n",
    "\n",
    "s1 = Scatter(dfs1, x='Per_Capita_Income', y='Energy_Per_SqFt', title=\"Income vs. Energy Use\",\n",
    "\n",
    "            xlabel=\"Per Capita Income\", ylabel=\"Energy Use (kWh) Per SqFt\", color='#8B0000')\n",
    "\n",
    "s2 = Scatter(dfp1, x='Per_Capita_Income', y='Energy_Use_Per_Person', title=\"Income vs. Househould Energy Use\",\n",
    "\n",
    "            xlabel=\"Per Capita Income\", ylabel=\"Energy Use Per Residential Person\", color='#8B0000')\n",
    "\n",
    "show(row(s1, s2))"
   ]
  },
  {
   "cell_type": "code",
   "execution_count": 168,
   "metadata": {
    "collapsed": false
   },
   "outputs": [
    {
     "data": {
      "text/plain": [
       "LinregressResult(slope=-13.922482018514376, intercept=6938274.6592972865, rvalue=-0.017275671711182751, pvalue=0.88145501118630498, stderr=93.043550467665355)"
      ]
     },
     "execution_count": 168,
     "metadata": {},
     "output_type": "execute_result"
    }
   ],
   "source": [
    "from scipy import stats\n",
    "\n",
    "stats.linregress(dfs1.Per_Capita_Income, dfs1.Energy_Per_SqFt)"
   ]
  },
  {
   "cell_type": "code",
   "execution_count": 169,
   "metadata": {
    "collapsed": false
   },
   "outputs": [
    {
     "data": {
      "text/plain": [
       "LinregressResult(slope=-0.02450211471961904, intercept=3071.3313425963015, rvalue=-0.07763271457835455, pvalue=0.50215948587857295, stderr=0.036334190921489602)"
      ]
     },
     "execution_count": 169,
     "metadata": {},
     "output_type": "execute_result"
    }
   ],
   "source": [
    "stats.linregress(dfp1.Per_Capita_Income, dfp1.Energy_Use_Per_Person)"
   ]
  },
  {
   "cell_type": "code",
   "execution_count": 170,
   "metadata": {
    "collapsed": true
   },
   "outputs": [],
   "source": [
    "df_avg=pd.concat([dfe_avg,dfd2],axis=1)"
   ]
  },
  {
   "cell_type": "code",
   "execution_count": 171,
   "metadata": {
    "collapsed": false
   },
   "outputs": [],
   "source": [
    "df_avg1=df_avg.drop(df_avg.columns[[1,2,3,4,5,6,7,8,9,10,11,12,13,17,18,19,20,21,22,23,24,25,26,27,28,\n",
    "                                    34,35,36,37,38,39,41,42,43,44,45,46,48,49,50,51,52,53,55,56,57,58,59,60,67,69,71]], axis=1)"
   ]
  },
  {
   "cell_type": "code",
   "execution_count": 172,
   "metadata": {
    "collapsed": false
   },
   "outputs": [],
   "source": [
    "dfa_corr=df_avg1.corr()"
   ]
  },
  {
   "cell_type": "code",
   "execution_count": 205,
   "metadata": {
    "collapsed": false
   },
   "outputs": [],
   "source": [
    "import matplotlib.pyplot as plt\n",
    "import seaborn\n",
    "\n",
    "mask = np.zeros_like(dfa_corr)\n",
    "mask[np.triu_indices_from(mask)] = True\n",
    "\n",
    "seaborn.heatmap(dfa_corr, cmap='coolwarm', vmax=1.0, vmin=-1.0 , mask = mask, linewidths=2.5)\n",
    " \n",
    "plt.yticks(rotation=0) \n",
    "plt.xticks(rotation=90) \n",
    "plt.show()"
   ]
  },
  {
   "cell_type": "code",
   "execution_count": 174,
   "metadata": {
    "collapsed": false
   },
   "outputs": [],
   "source": [
    "df_avg2=df_avg1.drop([41,47,48,49],axis=0)"
   ]
  },
  {
   "cell_type": "code",
   "execution_count": 175,
   "metadata": {
    "collapsed": true
   },
   "outputs": [],
   "source": [
    "dfa2_corr=df_avg2.corr()"
   ]
  },
  {
   "cell_type": "code",
   "execution_count": 183,
   "metadata": {
    "collapsed": false
   },
   "outputs": [],
   "source": [
    "import matplotlib.pyplot as plt\n",
    "import seaborn\n",
    "\n",
    "mask = np.zeros_like(dfa2_corr)\n",
    "mask[np.triu_indices_from(mask)] = True\n",
    "\n",
    "seaborn.heatmap(dfa2_corr, cmap='coolwarm', vmax=1.0, vmin=-1.0 , mask = mask, linewidths=2.5)\n",
    " \n",
    "plt.yticks(rotation=0) \n",
    "plt.xticks(rotation=90) \n",
    "plt.show()"
   ]
  },
  {
   "cell_type": "code",
   "execution_count": 222,
   "metadata": {
    "collapsed": false
   },
   "outputs": [],
   "source": [
    "from bokeh import mpl\n",
    "from bokeh.plotting import output_file, show\n",
    "\n",
    "seaborn.violinplot(x='BUILDING_SUBTYPE',y='TOTAL_THERMS',data=dfe4)\n",
    "\n",
    "output_file(\"seaborn_violin_therms.html\")\n",
    "\n",
    "show(mpl.to_bokeh())"
   ]
  },
  {
   "cell_type": "code",
   "execution_count": 219,
   "metadata": {
    "collapsed": true
   },
   "outputs": [],
   "source": [
    "from bokeh import mpl\n",
    "from bokeh.plotting import output_file, show \n",
    "\n",
    "seaborn.violinplot(x='BUILDING_SUBTYPE',y='TOTAL_KWH',data=dfe4)\n",
    "\n",
    "output_file(\"seaborn_violin_kwh.html\")\n",
    "\n",
    "show(mpl.to_bokeh())"
   ]
  },
  {
   "cell_type": "code",
   "execution_count": 288,
   "metadata": {
    "collapsed": true
   },
   "outputs": [],
   "source": [
    "dfe_sub=dfe4.groupby('BUILDING_SUBTYPE', as_index=True).mean()"
   ]
  },
  {
   "cell_type": "code",
   "execution_count": 289,
   "metadata": {
    "collapsed": true
   },
   "outputs": [],
   "source": [
    "dfe_subk = dfe_sub[[1,2,3,4,5,6,7,8,9,10,11,12]]\n",
    "dfe_subt = dfe_sub[[16,17,18,19,20,21,22,23,24,25,26,27]]"
   ]
  },
  {
   "cell_type": "code",
   "execution_count": 298,
   "metadata": {
    "collapsed": true
   },
   "outputs": [],
   "source": [
    "dfe_subk.columns=['January','February','March','April','May','June','July','August',\n",
    "                  'September','October','November','December']\n",
    "dfe_subt.columns=['January','February','March','April','May','June','July','August',\n",
    "                  'September','October','November','December']"
   ]
  },
  {
   "cell_type": "code",
   "execution_count": 299,
   "metadata": {
    "collapsed": false
   },
   "outputs": [],
   "source": [
    "dfe_km = dfe_subk.transpose()\n",
    "dfe_tm = dfe_subt.transpose()"
   ]
  },
  {
   "cell_type": "code",
   "execution_count": 314,
   "metadata": {
    "collapsed": false
   },
   "outputs": [],
   "source": [
    "area_tm=dfe_tm.plot.area(colormap='Blues')\n",
    "\n",
    "plt.xlabel(\"Month\")\n",
    "plt.ylabel(\"Therms\")\n",
    "\n",
    "plt.show(area_tm)"
   ]
  },
  {
   "cell_type": "code",
   "execution_count": 315,
   "metadata": {
    "collapsed": true
   },
   "outputs": [],
   "source": [
    "area_km=dfe_km.plot.area(colormap='Blues')\n",
    "\n",
    "plt.xlabel(\"Month\")\n",
    "plt.ylabel(\"kWh\")\n",
    "\n",
    "plt.show(area_km)"
   ]
  },
  {
   "cell_type": "code",
   "execution_count": 323,
   "metadata": {
    "collapsed": true
   },
   "outputs": [],
   "source": [
    "dfe_an=dfe4[[3,32,66]]"
   ]
  },
  {
   "cell_type": "code",
   "execution_count": 324,
   "metadata": {
    "collapsed": false
   },
   "outputs": [
    {
     "data": {
      "text/html": [
       "<div>\n",
       "<table border=\"1\" class=\"dataframe\">\n",
       "  <thead>\n",
       "    <tr style=\"text-align: right;\">\n",
       "      <th></th>\n",
       "      <th>BUILDING_SUBTYPE</th>\n",
       "      <th>GAS_ACCOUNTS</th>\n",
       "      <th>AVERAGE_BUILDING_AGE</th>\n",
       "    </tr>\n",
       "  </thead>\n",
       "  <tbody>\n",
       "    <tr>\n",
       "      <th>0</th>\n",
       "      <td>Multi &lt; 7</td>\n",
       "      <td>11.0</td>\n",
       "      <td>71.33</td>\n",
       "    </tr>\n",
       "    <tr>\n",
       "      <th>19</th>\n",
       "      <td>Multi &lt; 7</td>\n",
       "      <td>2.0</td>\n",
       "      <td>101.00</td>\n",
       "    </tr>\n",
       "    <tr>\n",
       "      <th>22</th>\n",
       "      <td>Single Family</td>\n",
       "      <td>2.0</td>\n",
       "      <td>51.00</td>\n",
       "    </tr>\n",
       "    <tr>\n",
       "      <th>39</th>\n",
       "      <td>Multi &lt; 7</td>\n",
       "      <td>5.0</td>\n",
       "      <td>0.00</td>\n",
       "    </tr>\n",
       "    <tr>\n",
       "      <th>41</th>\n",
       "      <td>Multi &lt; 7</td>\n",
       "      <td>2.0</td>\n",
       "      <td>79.00</td>\n",
       "    </tr>\n",
       "    <tr>\n",
       "      <th>44</th>\n",
       "      <td>Multi &lt; 7</td>\n",
       "      <td>2.0</td>\n",
       "      <td>111.00</td>\n",
       "    </tr>\n",
       "    <tr>\n",
       "      <th>46</th>\n",
       "      <td>Single Family</td>\n",
       "      <td>2.0</td>\n",
       "      <td>126.00</td>\n",
       "    </tr>\n",
       "    <tr>\n",
       "      <th>50</th>\n",
       "      <td>Multi &lt; 7</td>\n",
       "      <td>2.0</td>\n",
       "      <td>121.00</td>\n",
       "    </tr>\n",
       "    <tr>\n",
       "      <th>51</th>\n",
       "      <td>Multi &lt; 7</td>\n",
       "      <td>4.0</td>\n",
       "      <td>97.00</td>\n",
       "    </tr>\n",
       "    <tr>\n",
       "      <th>53</th>\n",
       "      <td>Multi 7+</td>\n",
       "      <td>6.0</td>\n",
       "      <td>0.00</td>\n",
       "    </tr>\n",
       "    <tr>\n",
       "      <th>55</th>\n",
       "      <td>Multi &lt; 7</td>\n",
       "      <td>7.0</td>\n",
       "      <td>53.00</td>\n",
       "    </tr>\n",
       "    <tr>\n",
       "      <th>61</th>\n",
       "      <td>Multi 7+</td>\n",
       "      <td>2.0</td>\n",
       "      <td>99.00</td>\n",
       "    </tr>\n",
       "    <tr>\n",
       "      <th>67</th>\n",
       "      <td>Multi &lt; 7</td>\n",
       "      <td>2.0</td>\n",
       "      <td>0.00</td>\n",
       "    </tr>\n",
       "    <tr>\n",
       "      <th>69</th>\n",
       "      <td>Multi &lt; 7</td>\n",
       "      <td>2.0</td>\n",
       "      <td>97.00</td>\n",
       "    </tr>\n",
       "    <tr>\n",
       "      <th>81</th>\n",
       "      <td>Multi 7+</td>\n",
       "      <td>2.0</td>\n",
       "      <td>91.00</td>\n",
       "    </tr>\n",
       "    <tr>\n",
       "      <th>88</th>\n",
       "      <td>Single Family</td>\n",
       "      <td>4.0</td>\n",
       "      <td>0.00</td>\n",
       "    </tr>\n",
       "    <tr>\n",
       "      <th>90</th>\n",
       "      <td>Multi &lt; 7</td>\n",
       "      <td>9.0</td>\n",
       "      <td>85.33</td>\n",
       "    </tr>\n",
       "    <tr>\n",
       "      <th>91</th>\n",
       "      <td>Multi &lt; 7</td>\n",
       "      <td>6.0</td>\n",
       "      <td>80.00</td>\n",
       "    </tr>\n",
       "    <tr>\n",
       "      <th>92</th>\n",
       "      <td>Multi &lt; 7</td>\n",
       "      <td>2.0</td>\n",
       "      <td>83.00</td>\n",
       "    </tr>\n",
       "    <tr>\n",
       "      <th>94</th>\n",
       "      <td>Multi &lt; 7</td>\n",
       "      <td>8.0</td>\n",
       "      <td>12.00</td>\n",
       "    </tr>\n",
       "    <tr>\n",
       "      <th>96</th>\n",
       "      <td>Multi 7+</td>\n",
       "      <td>21.0</td>\n",
       "      <td>12.00</td>\n",
       "    </tr>\n",
       "    <tr>\n",
       "      <th>98</th>\n",
       "      <td>Multi &lt; 7</td>\n",
       "      <td>2.0</td>\n",
       "      <td>22.00</td>\n",
       "    </tr>\n",
       "    <tr>\n",
       "      <th>102</th>\n",
       "      <td>Multi 7+</td>\n",
       "      <td>6.0</td>\n",
       "      <td>12.00</td>\n",
       "    </tr>\n",
       "    <tr>\n",
       "      <th>110</th>\n",
       "      <td>Multi 7+</td>\n",
       "      <td>6.0</td>\n",
       "      <td>39.00</td>\n",
       "    </tr>\n",
       "    <tr>\n",
       "      <th>111</th>\n",
       "      <td>Single Family</td>\n",
       "      <td>2.0</td>\n",
       "      <td>4.00</td>\n",
       "    </tr>\n",
       "    <tr>\n",
       "      <th>117</th>\n",
       "      <td>Single Family</td>\n",
       "      <td>4.0</td>\n",
       "      <td>119.00</td>\n",
       "    </tr>\n",
       "    <tr>\n",
       "      <th>126</th>\n",
       "      <td>Single Family</td>\n",
       "      <td>2.0</td>\n",
       "      <td>0.00</td>\n",
       "    </tr>\n",
       "    <tr>\n",
       "      <th>127</th>\n",
       "      <td>Multi &lt; 7</td>\n",
       "      <td>2.0</td>\n",
       "      <td>0.00</td>\n",
       "    </tr>\n",
       "    <tr>\n",
       "      <th>130</th>\n",
       "      <td>Multi &lt; 7</td>\n",
       "      <td>4.0</td>\n",
       "      <td>116.00</td>\n",
       "    </tr>\n",
       "    <tr>\n",
       "      <th>152</th>\n",
       "      <td>Multi &lt; 7</td>\n",
       "      <td>5.0</td>\n",
       "      <td>109.00</td>\n",
       "    </tr>\n",
       "    <tr>\n",
       "      <th>...</th>\n",
       "      <td>...</td>\n",
       "      <td>...</td>\n",
       "      <td>...</td>\n",
       "    </tr>\n",
       "    <tr>\n",
       "      <th>67005</th>\n",
       "      <td>Multi &lt; 7</td>\n",
       "      <td>28.0</td>\n",
       "      <td>60.70</td>\n",
       "    </tr>\n",
       "    <tr>\n",
       "      <th>67006</th>\n",
       "      <td>Multi &lt; 7</td>\n",
       "      <td>20.0</td>\n",
       "      <td>71.67</td>\n",
       "    </tr>\n",
       "    <tr>\n",
       "      <th>67007</th>\n",
       "      <td>Single Family</td>\n",
       "      <td>6.0</td>\n",
       "      <td>52.29</td>\n",
       "    </tr>\n",
       "    <tr>\n",
       "      <th>67009</th>\n",
       "      <td>Multi &lt; 7</td>\n",
       "      <td>20.0</td>\n",
       "      <td>68.00</td>\n",
       "    </tr>\n",
       "    <tr>\n",
       "      <th>67010</th>\n",
       "      <td>Multi 7+</td>\n",
       "      <td>21.0</td>\n",
       "      <td>85.00</td>\n",
       "    </tr>\n",
       "    <tr>\n",
       "      <th>67011</th>\n",
       "      <td>Multi &lt; 7</td>\n",
       "      <td>30.0</td>\n",
       "      <td>61.13</td>\n",
       "    </tr>\n",
       "    <tr>\n",
       "      <th>67014</th>\n",
       "      <td>Multi &lt; 7</td>\n",
       "      <td>8.0</td>\n",
       "      <td>77.75</td>\n",
       "    </tr>\n",
       "    <tr>\n",
       "      <th>67016</th>\n",
       "      <td>Single Family</td>\n",
       "      <td>2.0</td>\n",
       "      <td>115.33</td>\n",
       "    </tr>\n",
       "    <tr>\n",
       "      <th>67018</th>\n",
       "      <td>Multi &lt; 7</td>\n",
       "      <td>6.0</td>\n",
       "      <td>53.50</td>\n",
       "    </tr>\n",
       "    <tr>\n",
       "      <th>67019</th>\n",
       "      <td>Single Family</td>\n",
       "      <td>20.0</td>\n",
       "      <td>106.29</td>\n",
       "    </tr>\n",
       "    <tr>\n",
       "      <th>67020</th>\n",
       "      <td>Multi &lt; 7</td>\n",
       "      <td>33.0</td>\n",
       "      <td>101.29</td>\n",
       "    </tr>\n",
       "    <tr>\n",
       "      <th>67021</th>\n",
       "      <td>Multi &lt; 7</td>\n",
       "      <td>35.0</td>\n",
       "      <td>87.69</td>\n",
       "    </tr>\n",
       "    <tr>\n",
       "      <th>67022</th>\n",
       "      <td>Multi &lt; 7</td>\n",
       "      <td>23.0</td>\n",
       "      <td>81.91</td>\n",
       "    </tr>\n",
       "    <tr>\n",
       "      <th>67023</th>\n",
       "      <td>Single Family</td>\n",
       "      <td>5.0</td>\n",
       "      <td>101.00</td>\n",
       "    </tr>\n",
       "    <tr>\n",
       "      <th>67027</th>\n",
       "      <td>Multi &lt; 7</td>\n",
       "      <td>30.0</td>\n",
       "      <td>65.67</td>\n",
       "    </tr>\n",
       "    <tr>\n",
       "      <th>67029</th>\n",
       "      <td>Multi 7+</td>\n",
       "      <td>13.0</td>\n",
       "      <td>98.00</td>\n",
       "    </tr>\n",
       "    <tr>\n",
       "      <th>67030</th>\n",
       "      <td>Multi &lt; 7</td>\n",
       "      <td>19.0</td>\n",
       "      <td>69.33</td>\n",
       "    </tr>\n",
       "    <tr>\n",
       "      <th>67031</th>\n",
       "      <td>Single Family</td>\n",
       "      <td>5.0</td>\n",
       "      <td>5.00</td>\n",
       "    </tr>\n",
       "    <tr>\n",
       "      <th>67032</th>\n",
       "      <td>Multi &lt; 7</td>\n",
       "      <td>15.0</td>\n",
       "      <td>89.40</td>\n",
       "    </tr>\n",
       "    <tr>\n",
       "      <th>67034</th>\n",
       "      <td>Multi &lt; 7</td>\n",
       "      <td>16.0</td>\n",
       "      <td>105.29</td>\n",
       "    </tr>\n",
       "    <tr>\n",
       "      <th>67036</th>\n",
       "      <td>Multi &lt; 7</td>\n",
       "      <td>2.0</td>\n",
       "      <td>114.50</td>\n",
       "    </tr>\n",
       "    <tr>\n",
       "      <th>67038</th>\n",
       "      <td>Multi &lt; 7</td>\n",
       "      <td>8.0</td>\n",
       "      <td>104.00</td>\n",
       "    </tr>\n",
       "    <tr>\n",
       "      <th>67040</th>\n",
       "      <td>Multi &lt; 7</td>\n",
       "      <td>4.0</td>\n",
       "      <td>55.00</td>\n",
       "    </tr>\n",
       "    <tr>\n",
       "      <th>67041</th>\n",
       "      <td>Multi &lt; 7</td>\n",
       "      <td>4.0</td>\n",
       "      <td>107.00</td>\n",
       "    </tr>\n",
       "    <tr>\n",
       "      <th>67043</th>\n",
       "      <td>Multi &lt; 7</td>\n",
       "      <td>11.0</td>\n",
       "      <td>115.25</td>\n",
       "    </tr>\n",
       "    <tr>\n",
       "      <th>67045</th>\n",
       "      <td>Multi &lt; 7</td>\n",
       "      <td>25.0</td>\n",
       "      <td>51.90</td>\n",
       "    </tr>\n",
       "    <tr>\n",
       "      <th>67046</th>\n",
       "      <td>Single Family</td>\n",
       "      <td>9.0</td>\n",
       "      <td>0.00</td>\n",
       "    </tr>\n",
       "    <tr>\n",
       "      <th>67048</th>\n",
       "      <td>Multi &lt; 7</td>\n",
       "      <td>5.0</td>\n",
       "      <td>100.67</td>\n",
       "    </tr>\n",
       "    <tr>\n",
       "      <th>67049</th>\n",
       "      <td>Single Family</td>\n",
       "      <td>5.0</td>\n",
       "      <td>0.00</td>\n",
       "    </tr>\n",
       "    <tr>\n",
       "      <th>67050</th>\n",
       "      <td>Multi &lt; 7</td>\n",
       "      <td>13.0</td>\n",
       "      <td>79.40</td>\n",
       "    </tr>\n",
       "  </tbody>\n",
       "</table>\n",
       "<p>49314 rows × 3 columns</p>\n",
       "</div>"
      ],
      "text/plain": [
       "      BUILDING_SUBTYPE  GAS_ACCOUNTS  AVERAGE_BUILDING_AGE\n",
       "0            Multi < 7          11.0                 71.33\n",
       "19           Multi < 7           2.0                101.00\n",
       "22       Single Family           2.0                 51.00\n",
       "39           Multi < 7           5.0                  0.00\n",
       "41           Multi < 7           2.0                 79.00\n",
       "44           Multi < 7           2.0                111.00\n",
       "46       Single Family           2.0                126.00\n",
       "50           Multi < 7           2.0                121.00\n",
       "51           Multi < 7           4.0                 97.00\n",
       "53            Multi 7+           6.0                  0.00\n",
       "55           Multi < 7           7.0                 53.00\n",
       "61            Multi 7+           2.0                 99.00\n",
       "67           Multi < 7           2.0                  0.00\n",
       "69           Multi < 7           2.0                 97.00\n",
       "81            Multi 7+           2.0                 91.00\n",
       "88       Single Family           4.0                  0.00\n",
       "90           Multi < 7           9.0                 85.33\n",
       "91           Multi < 7           6.0                 80.00\n",
       "92           Multi < 7           2.0                 83.00\n",
       "94           Multi < 7           8.0                 12.00\n",
       "96            Multi 7+          21.0                 12.00\n",
       "98           Multi < 7           2.0                 22.00\n",
       "102           Multi 7+           6.0                 12.00\n",
       "110           Multi 7+           6.0                 39.00\n",
       "111      Single Family           2.0                  4.00\n",
       "117      Single Family           4.0                119.00\n",
       "126      Single Family           2.0                  0.00\n",
       "127          Multi < 7           2.0                  0.00\n",
       "130          Multi < 7           4.0                116.00\n",
       "152          Multi < 7           5.0                109.00\n",
       "...                ...           ...                   ...\n",
       "67005        Multi < 7          28.0                 60.70\n",
       "67006        Multi < 7          20.0                 71.67\n",
       "67007    Single Family           6.0                 52.29\n",
       "67009        Multi < 7          20.0                 68.00\n",
       "67010         Multi 7+          21.0                 85.00\n",
       "67011        Multi < 7          30.0                 61.13\n",
       "67014        Multi < 7           8.0                 77.75\n",
       "67016    Single Family           2.0                115.33\n",
       "67018        Multi < 7           6.0                 53.50\n",
       "67019    Single Family          20.0                106.29\n",
       "67020        Multi < 7          33.0                101.29\n",
       "67021        Multi < 7          35.0                 87.69\n",
       "67022        Multi < 7          23.0                 81.91\n",
       "67023    Single Family           5.0                101.00\n",
       "67027        Multi < 7          30.0                 65.67\n",
       "67029         Multi 7+          13.0                 98.00\n",
       "67030        Multi < 7          19.0                 69.33\n",
       "67031    Single Family           5.0                  5.00\n",
       "67032        Multi < 7          15.0                 89.40\n",
       "67034        Multi < 7          16.0                105.29\n",
       "67036        Multi < 7           2.0                114.50\n",
       "67038        Multi < 7           8.0                104.00\n",
       "67040        Multi < 7           4.0                 55.00\n",
       "67041        Multi < 7           4.0                107.00\n",
       "67043        Multi < 7          11.0                115.25\n",
       "67045        Multi < 7          25.0                 51.90\n",
       "67046    Single Family           9.0                  0.00\n",
       "67048        Multi < 7           5.0                100.67\n",
       "67049    Single Family           5.0                  0.00\n",
       "67050        Multi < 7          13.0                 79.40\n",
       "\n",
       "[49314 rows x 3 columns]"
      ]
     },
     "execution_count": 324,
     "metadata": {},
     "output_type": "execute_result"
    }
   ],
   "source": [
    "dfe_an.dropna(axis=0)"
   ]
  },
  {
   "cell_type": "code",
   "execution_count": null,
   "metadata": {
    "collapsed": false
   },
   "outputs": [],
   "source": [
    "g = seaborn.factorplot(x='GAS_ACCOUNTS', y='AVERAGE_BUILDING_AGE', hue='BUILDING_SUBTYPE', data=dfe_an[dfe_an.GAS_ACCOUNTS<40],\n",
    "                   capsize=.2, palette=\"YlGnBu_d\", size=6, aspect=.75, legend=False)\n",
    "g.despine(left=True)\n",
    "plt.legend(loc='lower left')\n",
    "\n",
    "plt.show(g)"
   ]
  },
  {
   "cell_type": "code",
   "execution_count": 330,
   "metadata": {
    "collapsed": true
   },
   "outputs": [],
   "source": [
    "dfe_sf=dfe4[dfe4.BUILDING_SUBTYPE == 'Single Family']"
   ]
  },
  {
   "cell_type": "code",
   "execution_count": 337,
   "metadata": {
    "collapsed": false
   },
   "outputs": [],
   "source": [
    "from bokeh.charts import Bar, show, output_file\n",
    "\n",
    "p1 = Bar(dfe_sf, 'COMMUNITY_AREA_NAME', values='TOTAL_KWH', agg='sum', title=\"Neighborhood Energy Use 2010\", \n",
    "        legend=False, bar_width=1, color='#6495ed')\n",
    "p1.width=1200\n",
    "p1.height=500\n",
    "\n",
    "output_file(\"bar_sf.html\")\n",
    "show(p1)"
   ]
  },
  {
   "cell_type": "code",
   "execution_count": 332,
   "metadata": {
    "collapsed": true
   },
   "outputs": [],
   "source": [
    "dfe_sfa=dfe_sf.groupby('COMMUNITY_AREA_NAME', as_index=False).mean()"
   ]
  },
  {
   "cell_type": "code",
   "execution_count": 333,
   "metadata": {
    "collapsed": true
   },
   "outputs": [],
   "source": [
    "df_sf2=pd.concat([dfe_sfa,dfd2],axis=1)"
   ]
  },
  {
   "cell_type": "code",
   "execution_count": 338,
   "metadata": {
    "collapsed": true
   },
   "outputs": [],
   "source": [
    "df_sf3=df_sf2.drop(df_sf2.columns[[1,2,3,4,5,6,7,8,9,10,11,12,13,17,18,19,20,21,22,23,24,25,26,27,28,\n",
    "                                    34,35,36,37,38,39,41,42,43,44,45,46,48,49,50,51,52,53,55,56,57,58,59,60,67,69,71]], axis=1)"
   ]
  },
  {
   "cell_type": "code",
   "execution_count": 339,
   "metadata": {
    "collapsed": true
   },
   "outputs": [],
   "source": [
    "dfsf_corr=df_sf3.corr()"
   ]
  },
  {
   "cell_type": "code",
   "execution_count": 340,
   "metadata": {
    "collapsed": true
   },
   "outputs": [],
   "source": [
    "mask = np.zeros_like(dfsf_corr)\n",
    "mask[np.triu_indices_from(mask)] = True\n",
    "\n",
    "seaborn.heatmap(dfsf_corr, cmap='coolwarm', vmax=1.0, vmin=-1.0 , mask = mask, linewidths=2.5)\n",
    " \n",
    "plt.yticks(rotation=0) \n",
    "plt.xticks(rotation=90) \n",
    "plt.show()"
   ]
  },
  {
   "cell_type": "code",
   "execution_count": 360,
   "metadata": {
    "collapsed": false
   },
   "outputs": [],
   "source": [
    "seaborn.set(style=\"darkgrid\", color_codes=True)\n",
    "\n",
    "gf = seaborn.jointplot(\"AVERAGE_BUILDING_AGE\", \"TOTAL_KWH\", data=df_sf3, kind=\"reg\", xlim=(0, 110), ylim=(0, 250000), color=\"r\")\n",
    "\n",
    "plt.xlabel(\"Average Building Age\")\n",
    "plt.ylabel(\"kWh\")\n",
    "plt.show(gf)"
   ]
  },
  {
   "cell_type": "code",
   "execution_count": 362,
   "metadata": {
    "collapsed": true
   },
   "outputs": [],
   "source": [
    "seaborn.set(style=\"darkgrid\", color_codes=True)\n",
    "\n",
    "gf1 = seaborn.jointplot(\"AVERAGE_HOUSESIZE\", \"TOTAL_KWH\", data=df_sf3, kind=\"reg\", xlim=(1.0, 5.0), ylim=(0, 250000), color=\"r\")\n",
    "\n",
    "plt.xlabel(\"Average Building Size\")\n",
    "plt.ylabel(\"kWh\")\n",
    "plt.show(gf1)"
   ]
  },
  {
   "cell_type": "code",
   "execution_count": 364,
   "metadata": {
    "collapsed": true
   },
   "outputs": [],
   "source": [
    "seaborn.set(style=\"darkgrid\", color_codes=True)\n",
    "\n",
    "gf2 = seaborn.jointplot(\"AVERAGE_STORIES\", \"TOTAL_KWH\", data=df_sf3, kind=\"reg\", xlim=(1.0, 2.0), ylim=(0, 250000), color=\"r\")\n",
    "\n",
    "plt.xlabel(\"Average Building Stories\")\n",
    "plt.ylabel(\"kWh\")\n",
    "plt.show(gf2)"
   ]
  },
  {
   "cell_type": "code",
   "execution_count": 367,
   "metadata": {
    "collapsed": true
   },
   "outputs": [],
   "source": [
    "seaborn.set(style=\"darkgrid\", color_codes=True)\n",
    "\n",
    "gf3 = seaborn.jointplot(\"AVERAGE_BUILDING_AGE\", \"TOTAL_THERMS\", data=df_sf3, kind=\"reg\", xlim=(0, 110), ylim=(0, 30000), color=\"b\")\n",
    "\n",
    "plt.xlabel(\"Average Building Age\")\n",
    "plt.ylabel(\"Therms\")\n",
    "plt.show(gf3)"
   ]
  },
  {
   "cell_type": "code",
   "execution_count": 368,
   "metadata": {
    "collapsed": true
   },
   "outputs": [],
   "source": [
    "seaborn.set(style=\"darkgrid\", color_codes=True)\n",
    "\n",
    "gf4 = seaborn.jointplot(\"AVERAGE_HOUSESIZE\", \"TOTAL_THERMS\", data=df_sf3, kind=\"reg\", xlim=(1.0, 5.0), ylim=(0, 30000), color=\"b\")\n",
    "\n",
    "plt.xlabel(\"Average Building Size\")\n",
    "plt.ylabel(\"Therms\")\n",
    "plt.show(gf4)"
   ]
  },
  {
   "cell_type": "code",
   "execution_count": 369,
   "metadata": {
    "collapsed": true
   },
   "outputs": [],
   "source": [
    "seaborn.set(style=\"darkgrid\", color_codes=True)\n",
    "\n",
    "gf5 = seaborn.jointplot(\"AVERAGE_STORIES\", \"TOTAL_THERMS\", data=df_sf3, kind=\"reg\", xlim=(1.0, 2.0), ylim=(0, 30000), color=\"b\")\n",
    "\n",
    "plt.xlabel(\"Average Building Stories\")\n",
    "plt.ylabel(\"Therms\")\n",
    "plt.show(gf5)"
   ]
  },
  {
   "cell_type": "code",
   "execution_count": 387,
   "metadata": {
    "collapsed": true
   },
   "outputs": [],
   "source": [
    "dfg_nyc=pd.read_csv('Gas_NYC.csv')\n",
    "dfg_nyc.columns = pd.Series(dfg_nyc.columns).str.replace(' ','')\n",
    "dfg_nyc.columns = pd.Series(dfg_nyc.columns).str.replace('(','')\n",
    "dfg_nyc.columns = pd.Series(dfg_nyc.columns).str.replace(')','')"
   ]
  },
  {
   "cell_type": "code",
   "execution_count": 385,
   "metadata": {
    "collapsed": false,
    "scrolled": true
   },
   "outputs": [],
   "source": [
    "dfg1=dfg_nyc.ZipCode.str.split('\\n').str.get(0)"
   ]
  },
  {
   "cell_type": "code",
   "execution_count": 389,
   "metadata": {
    "collapsed": false
   },
   "outputs": [],
   "source": [
    "dfg_nyc1=pd.concat([dfg1,dfg_nyc.Consumptiontherms],axis=1)"
   ]
  },
  {
   "cell_type": "code",
   "execution_count": 410,
   "metadata": {
    "collapsed": false
   },
   "outputs": [],
   "source": [
    "dfg_nyc1.columns = ['JURISDICTION_NAME', 'Therms']"
   ]
  },
  {
   "cell_type": "code",
   "execution_count": 433,
   "metadata": {
    "collapsed": true
   },
   "outputs": [],
   "source": [
    "dfga_nyc=dfg_nyc1.groupby('JURISDICTION_NAME', as_index=False).mean()"
   ]
  },
  {
   "cell_type": "code",
   "execution_count": 436,
   "metadata": {
    "collapsed": true
   },
   "outputs": [],
   "source": [
    "dfga_nyc1=dfga_nyc.apply(lambda x: pd.to_numeric(x, errors='ignore'))"
   ]
  },
  {
   "cell_type": "code",
   "execution_count": 372,
   "metadata": {
    "collapsed": true
   },
   "outputs": [],
   "source": [
    "dfp_nyc=pd.read_csv('Demographic_NYC.csv')\n",
    "dfp_nyc.columns = pd.Series(dfp_nyc.columns).str.replace(' ','_')"
   ]
  },
  {
   "cell_type": "code",
   "execution_count": 432,
   "metadata": {
    "collapsed": false
   },
   "outputs": [],
   "source": [
    "dfpa_nyc=dfp_nyc.groupby('JURISDICTION_NAME', as_index=False).mean()"
   ]
  },
  {
   "cell_type": "code",
   "execution_count": 437,
   "metadata": {
    "collapsed": false
   },
   "outputs": [],
   "source": [
    "df_nyc=pd.merge(dfga_nyc1, dfpa_nyc, on='JURISDICTION_NAME', how='inner')"
   ]
  },
  {
   "cell_type": "code",
   "execution_count": 453,
   "metadata": {
    "collapsed": true
   },
   "outputs": [],
   "source": [
    "seaborn.set(style=\"darkgrid\", color_codes=True)\n",
    "\n",
    "nyc = seaborn.jointplot(\"PERCENT_RECEIVES_PUBLIC_ASSISTANCE\", \"Therms\", data=df_nyc, kind=\"reg\", \n",
    "                        xlim=(-0.1, 1.1), ylim=(-1000000, 10000000), color=\"#4CB391\")\n",
    "\n",
    "plt.xlabel(\"Fraction Receives Public Assistance\")\n",
    "plt.ylabel(\"Therms x10^7\")\n",
    "plt.show(nyc)"
   ]
  }
 ],
 "metadata": {
  "kernelspec": {
   "display_name": "Python 2",
   "language": "python",
   "name": "python2"
  },
  "language_info": {
   "codemirror_mode": {
    "name": "ipython",
    "version": 2
   },
   "file_extension": ".py",
   "mimetype": "text/x-python",
   "name": "python",
   "nbconvert_exporter": "python",
   "pygments_lexer": "ipython2",
   "version": "2.7.12"
  }
 },
 "nbformat": 4,
 "nbformat_minor": 0
}
