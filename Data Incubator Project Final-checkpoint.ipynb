{
 "cells": [
  {
   "cell_type": "code",
   "execution_count": 1,
   "metadata": {
    "collapsed": true
   },
   "outputs": [],
   "source": [
    "import pandas as pd\n",
    "import numpy as np"
   ]
  },
  {
   "cell_type": "code",
   "execution_count": 2,
   "metadata": {
    "collapsed": false
   },
   "outputs": [],
   "source": [
    "dfd=pd.read_csv('Census_Data_-_Selected_socioeconomic_indicators_in_Chicago__2008___2012.csv')\n",
    "dfd.columns = pd.Series(dfd.columns).str.replace(' ','_')"
   ]
  },
  {
   "cell_type": "code",
   "execution_count": 3,
   "metadata": {
    "collapsed": true
   },
   "outputs": [],
   "source": [
    "dfd1=dfd[dfd.COMMUNITY_AREA_NAME != 'CHICAGO']"
   ]
  },
  {
   "cell_type": "code",
   "execution_count": 4,
   "metadata": {
    "collapsed": true
   },
   "outputs": [],
   "source": [
    "dfd2=dfd1.sort_values(['COMMUNITY_AREA_NAME'], ascending=True)"
   ]
  },
  {
   "cell_type": "code",
   "execution_count": 5,
   "metadata": {
    "collapsed": false
   },
   "outputs": [],
   "source": [
    "dfe=pd.read_csv('Energy_Usage_2010.csv')\n",
    "dfe.columns = pd.Series(dfe.columns).str.replace(' ','_')"
   ]
  },
  {
   "cell_type": "code",
   "execution_count": 6,
   "metadata": {
    "collapsed": false
   },
   "outputs": [],
   "source": [
    "dfe1=dfe.groupby('COMMUNITY_AREA_NAME', as_index=False).sum()"
   ]
  },
  {
   "cell_type": "code",
   "execution_count": 7,
   "metadata": {
    "collapsed": true
   },
   "outputs": [],
   "source": [
    "df1=pd.concat([dfe1,dfd2],axis=1)"
   ]
  },
  {
   "cell_type": "code",
   "execution_count": 9,
   "metadata": {
    "collapsed": false,
    "scrolled": true
   },
   "outputs": [],
   "source": [
    "from bokeh.charts import Bar, show, output_file\n",
    "\n",
    "p = Bar(dfe, 'COMMUNITY_AREA_NAME', values='TOTAL_KWH', agg='sum', title=\"Neighborhood Energy Use 2010\", \n",
    "        legend=False, bar_width=1, color='#6495ed')\n",
    "p.width=1200\n",
    "p.height=500\n",
    "\n",
    "output_file(\"bar1.html\")\n",
    "show(p)"
   ]
  },
  {
   "cell_type": "code",
   "execution_count": 10,
   "metadata": {
    "collapsed": false
   },
   "outputs": [],
   "source": [
    "dfs1=pd.concat([dfd2.COMMUNITY_AREA_NAME, dfd2.PER_CAPITA_INCOME_, dfe1.KWH_SQFT_MEAN_2010], axis=1)"
   ]
  },
  {
   "cell_type": "code",
   "execution_count": 11,
   "metadata": {
    "collapsed": false
   },
   "outputs": [],
   "source": [
    "dfs1.columns = ['Neighborhood', 'Per_Capita_Income', 'Energy_Per_SqFt']"
   ]
  },
  {
   "cell_type": "code",
   "execution_count": 12,
   "metadata": {
    "collapsed": true
   },
   "outputs": [],
   "source": [
    "dfe2=dfe[dfe.BUILDING_TYPE != 'Commercial']"
   ]
  },
  {
   "cell_type": "code",
   "execution_count": 13,
   "metadata": {
    "collapsed": false
   },
   "outputs": [],
   "source": [
    "dfe3=dfe2.groupby('COMMUNITY_AREA_NAME', as_index=False).sum()"
   ]
  },
  {
   "cell_type": "code",
   "execution_count": 14,
   "metadata": {
    "collapsed": true
   },
   "outputs": [],
   "source": [
    "dfp=(dfe3.TOTAL_KWH / dfe3.TOTAL_POPULATION)"
   ]
  },
  {
   "cell_type": "code",
   "execution_count": 15,
   "metadata": {
    "collapsed": true
   },
   "outputs": [],
   "source": [
    "dfp1=pd.concat([dfs1, dfp], axis=1)"
   ]
  },
  {
   "cell_type": "code",
   "execution_count": 16,
   "metadata": {
    "collapsed": true
   },
   "outputs": [],
   "source": [
    "dfp1.columns = ['Neighborhood', 'Per_Capita_Income','Energy_Per_SqFt', 'Energy_Use_Per_Person']"
   ]
  },
  {
   "cell_type": "code",
   "execution_count": 19,
   "metadata": {
    "collapsed": false
   },
   "outputs": [],
   "source": [
    "from bokeh.charts import Scatter\n",
    "from bokeh.io import output_file, show\n",
    "from bokeh.layouts import row\n",
    "\n",
    "output_file(\"twoscatter.html\")\n",
    "\n",
    "s1 = Scatter(dfs1, x='Per_Capita_Income', y='Energy_Per_SqFt', title=\"Income vs. Energy Use\",\n",
    "\n",
    "            xlabel=\"Per Capita Income\", ylabel=\"Energy Use (kWh) Per SqFt\", color='#8B0000')\n",
    "\n",
    "s2 = Scatter(dfp1, x='Per_Capita_Income', y='Energy_Use_Per_Person', title=\"Income vs. Househould Energy Use\",\n",
    "\n",
    "            xlabel=\"Per Capita Income\", ylabel=\"Energy Use Per Residential Person\", color='#8B0000')\n",
    "\n",
    "show(row(s1, s2))"
   ]
  },
  {
   "cell_type": "code",
   "execution_count": 23,
   "metadata": {
    "collapsed": false
   },
   "outputs": [
    {
     "data": {
      "text/plain": [
       "LinregressResult(slope=-13.922482018514376, intercept=6938274.6592972865, rvalue=-0.017275671711182751, pvalue=0.88145501118630498, stderr=93.043550467665355)"
      ]
     },
     "execution_count": 23,
     "metadata": {},
     "output_type": "execute_result"
    }
   ],
   "source": [
    "from scipy import stats\n",
    "\n",
    "stats.linregress(dfs1.Per_Capita_Income, dfs1.Energy_Per_SqFt)"
   ]
  },
  {
   "cell_type": "code",
   "execution_count": 24,
   "metadata": {
    "collapsed": false
   },
   "outputs": [
    {
     "data": {
      "text/plain": [
       "LinregressResult(slope=-0.025400067627980596, intercept=3136.8349518265422, rvalue=-0.079424849771928194, pvalue=0.49231178773579742, stderr=0.036810665477517282)"
      ]
     },
     "execution_count": 24,
     "metadata": {},
     "output_type": "execute_result"
    }
   ],
   "source": [
    "stats.linregress(dfp1.Per_Capita_Income, dfp1.Energy_Use_Per_Person)"
   ]
  },
  {
   "cell_type": "code",
   "execution_count": null,
   "metadata": {
    "collapsed": true
   },
   "outputs": [],
   "source": []
  }
 ],
 "metadata": {
  "kernelspec": {
   "display_name": "Python 2",
   "language": "python",
   "name": "python2"
  },
  "language_info": {
   "codemirror_mode": {
    "name": "ipython",
    "version": 2
   },
   "file_extension": ".py",
   "mimetype": "text/x-python",
   "name": "python",
   "nbconvert_exporter": "python",
   "pygments_lexer": "ipython2",
   "version": "2.7.12"
  }
 },
 "nbformat": 4,
 "nbformat_minor": 0
}
